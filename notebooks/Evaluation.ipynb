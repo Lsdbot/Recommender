{
 "cells": [
  {
   "cell_type": "code",
   "execution_count": 1,
   "id": "871a540d",
   "metadata": {},
   "outputs": [],
   "source": [
    "import pandas as pd\n",
    "import numpy as np\n",
    "\n",
    "from sklearn.preprocessing import MinMaxScaler\n",
    "\n",
    "from lightgbm import LGBMClassifier\n",
    "\n",
    "import joblib\n",
    "\n",
    "RAND=42"
   ]
  },
  {
   "cell_type": "markdown",
   "id": "efb6b79d",
   "metadata": {},
   "source": [
    "# Evaluation"
   ]
  },
  {
   "cell_type": "code",
   "execution_count": 2,
   "id": "579e8c7d",
   "metadata": {},
   "outputs": [],
   "source": [
    "test_path = '../data/transformed/test_data/test_data'\n",
    "\n",
    "test_data_00 = pd.read_parquet(test_path + '_0.pq.0')\n",
    "test_data_01 = pd.read_parquet(test_path + '_0.pq.1')\n",
    "test_data_10 = pd.read_parquet(test_path + '_1.pq.0')\n",
    "test_data_11 = pd.read_parquet(test_path + '_1.pq.1')"
   ]
  },
  {
   "cell_type": "code",
   "execution_count": 3,
   "id": "d8d2f94a",
   "metadata": {},
   "outputs": [],
   "source": [
    "models_path = \"../data/models.joblib\"\n",
    "\n",
    "models = joblib.load(models_path)"
   ]
  },
  {
   "cell_type": "code",
   "execution_count": 5,
   "id": "de7bc756",
   "metadata": {},
   "outputs": [],
   "source": [
    "model = models[\"model\"]"
   ]
  },
  {
   "cell_type": "code",
   "execution_count": 6,
   "id": "7c86a54f",
   "metadata": {},
   "outputs": [],
   "source": [
    "test_data = pd.concat([test_data_00, test_data_01,\n",
    "                       test_data_10, test_data_11])\n",
    "test_data = test_data.set_index(\"id\")"
   ]
  },
  {
   "cell_type": "code",
   "execution_count": 7,
   "id": "c32f06c5",
   "metadata": {},
   "outputs": [],
   "source": [
    "y_score = model.predict_proba(test_data)"
   ]
  },
  {
   "cell_type": "code",
   "execution_count": 8,
   "id": "53495ae5",
   "metadata": {},
   "outputs": [],
   "source": [
    "target_path = \"../data/raw/test_target.csv\"\n",
    "\n",
    "test_id = pd.read_csv(target_path)\n",
    "test_id = test_id.set_index('id')"
   ]
  },
  {
   "cell_type": "code",
   "execution_count": 9,
   "id": "ea4b6b3a",
   "metadata": {},
   "outputs": [],
   "source": [
    "test_id['score'] = y_score[:, 1]"
   ]
  },
  {
   "cell_type": "code",
   "execution_count": 10,
   "id": "568c7933",
   "metadata": {},
   "outputs": [],
   "source": [
    "sub_path = '../submission.csv'\n",
    "test_id.to_csv(sub_path)"
   ]
  }
 ],
 "metadata": {
  "kernelspec": {
   "display_name": "Python 3 (ipykernel)",
   "language": "python",
   "name": "python3"
  },
  "language_info": {
   "codemirror_mode": {
    "name": "ipython",
    "version": 3
   },
   "file_extension": ".py",
   "mimetype": "text/x-python",
   "name": "python",
   "nbconvert_exporter": "python",
   "pygments_lexer": "ipython3",
   "version": "3.10.7"
  }
 },
 "nbformat": 4,
 "nbformat_minor": 5
}
