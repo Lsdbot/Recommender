{
 "cells": [
  {
   "cell_type": "code",
   "execution_count": 1,
   "id": "31fe5ecd",
   "metadata": {},
   "outputs": [],
   "source": [
    "import pandas as pd\n",
    "import numpy as np\n",
    "\n",
    "from sklearn.preprocessing import MinMaxScaler\n",
    "\n",
    "from lightgbm import LGBMClassifier\n",
    "\n",
    "import joblib\n",
    "\n",
    "RAND=42"
   ]
  },
  {
   "cell_type": "markdown",
   "id": "471722fe",
   "metadata": {},
   "source": [
    "# Evaluation"
   ]
  },
  {
   "cell_type": "code",
   "execution_count": 2,
   "id": "9791d1f6",
   "metadata": {},
   "outputs": [],
   "source": [
    "test_path = '../data/transformed/test_data/test_data'\n",
    "\n",
    "test_data_00 = pd.read_parquet(test_path + '_0.pq.0')\n",
    "test_data_01 = pd.read_parquet(test_path + '_0.pq.1')\n",
    "test_data_10 = pd.read_parquet(test_path + '_1.pq.0')\n",
    "test_data_11 = pd.read_parquet(test_path + '_1.pq.1')"
   ]
  },
  {
   "cell_type": "code",
   "execution_count": 3,
   "id": "84243693",
   "metadata": {},
   "outputs": [],
   "source": [
    "models_path = \"../data/models.joblib\"\n",
    "\n",
    "models = joblib.load(models_path)\n",
    "\n",
    "model = models['lightgbm']"
   ]
  },
  {
   "cell_type": "code",
   "execution_count": 6,
   "id": "10c9078d",
   "metadata": {},
   "outputs": [],
   "source": [
    "test_data = pd.concat([test_data_00, test_data_01,\n",
    "                       test_data_10, test_data_11])\n",
    "test_data = test_data.set_index(\"id\")"
   ]
  },
  {
   "cell_type": "code",
   "execution_count": 7,
   "id": "a255f3e5",
   "metadata": {},
   "outputs": [],
   "source": [
    "y_score = model.predict_proba(test_data)"
   ]
  },
  {
   "cell_type": "code",
   "execution_count": 8,
   "id": "ddf99ec5",
   "metadata": {},
   "outputs": [],
   "source": [
    "target_path = \"../data/raw/test_target.csv\"\n",
    "\n",
    "test_id = pd.read_csv(target_path)\n",
    "test_id = test_id.set_index('id')"
   ]
  },
  {
   "cell_type": "code",
   "execution_count": 9,
   "id": "f1b5761b",
   "metadata": {},
   "outputs": [],
   "source": [
    "test_id['score'] = y_score[:, 1]"
   ]
  },
  {
   "cell_type": "code",
   "execution_count": 11,
   "id": "5a442983",
   "metadata": {},
   "outputs": [],
   "source": [
    "sub_path = '../submission.csv'\n",
    "test_id.to_csv(sub_path)"
   ]
  }
 ],
 "metadata": {
  "kernelspec": {
   "display_name": "Python 3 (ipykernel)",
   "language": "python",
   "name": "python3"
  },
  "language_info": {
   "codemirror_mode": {
    "name": "ipython",
    "version": 3
   },
   "file_extension": ".py",
   "mimetype": "text/x-python",
   "name": "python",
   "nbconvert_exporter": "python",
   "pygments_lexer": "ipython3",
   "version": "3.10.7"
  }
 },
 "nbformat": 4,
 "nbformat_minor": 5
}
