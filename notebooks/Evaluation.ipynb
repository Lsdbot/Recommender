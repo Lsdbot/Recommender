{
 "cells": [
  {
   "cell_type": "code",
   "execution_count": 1,
   "id": "45a6e79d",
   "metadata": {},
   "outputs": [],
   "source": [
    "import pandas as pd\n",
    "import numpy as np\n",
    "\n",
    "from sklearn.preprocessing import MinMaxScaler\n",
    "\n",
    "from lightgbm import LGBMClassifier\n",
    "\n",
    "import joblib\n",
    "\n",
    "RAND=42"
   ]
  },
  {
   "cell_type": "markdown",
   "id": "ead01bac",
   "metadata": {},
   "source": [
    "# Evaluation"
   ]
  },
  {
   "cell_type": "code",
   "execution_count": 2,
   "id": "15000086",
   "metadata": {},
   "outputs": [],
   "source": [
    "def pipeline_preprocessing(df: pd.DataFrame, n: int = 5) -> np.ndarray:\n",
    "    df = df.drop(\"pre_loans_total_overdue\", axis=1)\n",
    "    df = df.set_index('id')\n",
    "\n",
    "    X = df.groupby(level=0).last()\n",
    "\n",
    "    for i in range(2, n+1):\n",
    "        X = X.join(df.iloc[:,1:].groupby(level=0).nth(-i), rsuffix=f'_{i}', how='left')\n",
    "\n",
    "    X = X.fillna(0)\n",
    "    \n",
    "    return X"
   ]
  },
  {
   "cell_type": "code",
   "execution_count": 3,
   "id": "2153b799",
   "metadata": {},
   "outputs": [],
   "source": [
    "test_path = '../data/raw/test_data/test_data'\n",
    "\n",
    "test_data_0 = pd.read_parquet(test_path + '_0.pq')\n",
    "test_data_1 = pd.read_parquet(test_path + '_1.pq')"
   ]
  },
  {
   "cell_type": "code",
   "execution_count": 4,
   "id": "2ef9bfce",
   "metadata": {},
   "outputs": [],
   "source": [
    "models_path = \"../data/models.joblib\"\n",
    "\n",
    "models = joblib.load(models_path)\n",
    "\n",
    "model = models['lightgbm']"
   ]
  },
  {
   "cell_type": "code",
   "execution_count": 5,
   "id": "6b15ec4f",
   "metadata": {},
   "outputs": [],
   "source": [
    "eval_data_0 = pipeline_preprocessing(test_data_0)\n",
    "eval_data_1 = pipeline_preprocessing(test_data_1)"
   ]
  },
  {
   "cell_type": "code",
   "execution_count": 6,
   "id": "f6e8b995",
   "metadata": {},
   "outputs": [],
   "source": [
    "y_score_0 = model.predict_proba(eval_data_0)\n",
    "y_score_1 = model.predict_proba(eval_data_1)\n",
    "\n",
    "y_score = np.concatenate((y_score_0, y_score_1), axis=0)"
   ]
  },
  {
   "cell_type": "code",
   "execution_count": 7,
   "id": "ac86324a",
   "metadata": {},
   "outputs": [],
   "source": [
    "target_path = \"../data/raw/test_target.csv\"\n",
    "\n",
    "test_target = pd.read_csv(target_path)\n",
    "test_target = test_target.set_index('id')"
   ]
  },
  {
   "cell_type": "code",
   "execution_count": 8,
   "id": "c4888b20",
   "metadata": {},
   "outputs": [],
   "source": [
    "test_target['score'] = y_score[:, 1]"
   ]
  },
  {
   "cell_type": "code",
   "execution_count": 9,
   "id": "973fd0d6",
   "metadata": {},
   "outputs": [],
   "source": [
    "sub_path = '../sub.csv'\n",
    "test_target.to_csv(sub_path)"
   ]
  }
 ],
 "metadata": {
  "kernelspec": {
   "display_name": "Python 3 (ipykernel)",
   "language": "python",
   "name": "python3"
  },
  "language_info": {
   "codemirror_mode": {
    "name": "ipython",
    "version": 3
   },
   "file_extension": ".py",
   "mimetype": "text/x-python",
   "name": "python",
   "nbconvert_exporter": "python",
   "pygments_lexer": "ipython3",
   "version": "3.10.7"
  }
 },
 "nbformat": 4,
 "nbformat_minor": 5
}
