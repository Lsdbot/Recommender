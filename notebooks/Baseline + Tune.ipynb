{
 "cells": [
  {
   "cell_type": "code",
   "execution_count": 1,
   "id": "9e4c0312",
   "metadata": {},
   "outputs": [],
   "source": [
    "import pandas as pd\n",
    "import numpy as np\n",
    "\n",
    "from sklearn.model_selection import train_test_split, StratifiedKFold\n",
    "from sklearn.preprocessing import MinMaxScaler\n",
    "from sklearn.linear_model import LogisticRegression\n",
    "from sklearn.metrics import roc_auc_score, accuracy_score, precision_score, \\\n",
    "                            recall_score, f1_score, log_loss\n",
    "\n",
    "from tqdm.notebook import tqdm\n",
    "\n",
    "from lightgbm import LGBMClassifier\n",
    "from catboost import CatBoostClassifier\n",
    "\n",
    "import joblib\n",
    "\n",
    "\n",
    "RAND=42\n",
    "N_FOLDS = 5"
   ]
  },
  {
   "cell_type": "code",
   "execution_count": 2,
   "id": "3d8af07b",
   "metadata": {},
   "outputs": [],
   "source": [
    "def get_metrics(y_test, y_pred, y_score, name = \"Default\"):\n",
    "    \"\"\"Метрики для задачи классификации\"\"\"\n",
    "    df_metrics = pd.DataFrame()\n",
    "\n",
    "    df_metrics['model'] = [name]\n",
    "    df_metrics['Accuracy'] = accuracy_score(y_test, y_pred)\n",
    "    df_metrics['ROC_AUC'] = roc_auc_score(y_test, y_score[:, 1])\n",
    "    df_metrics['Precision'] = precision_score(y_test, y_pred)\n",
    "    df_metrics['Recall'] = recall_score(y_test, y_pred)\n",
    "    df_metrics['f1'] = f1_score(y_test, y_pred)\n",
    "    df_metrics['Logloss'] = log_loss(y_test, y_score)\n",
    "\n",
    "    return df_metrics"
   ]
  },
  {
   "cell_type": "markdown",
   "id": "1c404509",
   "metadata": {},
   "source": [
    "# Feature engineering"
   ]
  },
  {
   "cell_type": "code",
   "execution_count": 4,
   "id": "c0b2d4fc",
   "metadata": {
    "scrolled": true
   },
   "outputs": [
    {
     "data": {
      "text/html": [
       "<div>\n",
       "<style scoped>\n",
       "    .dataframe tbody tr th:only-of-type {\n",
       "        vertical-align: middle;\n",
       "    }\n",
       "\n",
       "    .dataframe tbody tr th {\n",
       "        vertical-align: top;\n",
       "    }\n",
       "\n",
       "    .dataframe thead th {\n",
       "        text-align: right;\n",
       "    }\n",
       "</style>\n",
       "<table border=\"1\" class=\"dataframe\">\n",
       "  <thead>\n",
       "    <tr style=\"text-align: right;\">\n",
       "      <th></th>\n",
       "      <th>rn</th>\n",
       "      <th>pre_since_opened</th>\n",
       "      <th>pre_since_confirmed</th>\n",
       "      <th>pre_pterm</th>\n",
       "      <th>pre_fterm</th>\n",
       "      <th>pre_till_pclose</th>\n",
       "      <th>pre_till_fclose</th>\n",
       "      <th>pre_loans_credit_limit</th>\n",
       "      <th>pre_loans_next_pay_summ</th>\n",
       "      <th>pre_loans_outstanding</th>\n",
       "      <th>...</th>\n",
       "      <th>enc_paym_21_4</th>\n",
       "      <th>enc_paym_22_4</th>\n",
       "      <th>enc_paym_23_4</th>\n",
       "      <th>enc_paym_24_4</th>\n",
       "      <th>enc_loans_account_holder_type_4</th>\n",
       "      <th>enc_loans_credit_status_4</th>\n",
       "      <th>enc_loans_credit_type_4</th>\n",
       "      <th>enc_loans_account_cur_4</th>\n",
       "      <th>pclose_flag_4</th>\n",
       "      <th>fclose_flag_4</th>\n",
       "    </tr>\n",
       "    <tr>\n",
       "      <th>id</th>\n",
       "      <th></th>\n",
       "      <th></th>\n",
       "      <th></th>\n",
       "      <th></th>\n",
       "      <th></th>\n",
       "      <th></th>\n",
       "      <th></th>\n",
       "      <th></th>\n",
       "      <th></th>\n",
       "      <th></th>\n",
       "      <th></th>\n",
       "      <th></th>\n",
       "      <th></th>\n",
       "      <th></th>\n",
       "      <th></th>\n",
       "      <th></th>\n",
       "      <th></th>\n",
       "      <th></th>\n",
       "      <th></th>\n",
       "      <th></th>\n",
       "      <th></th>\n",
       "    </tr>\n",
       "  </thead>\n",
       "  <tbody>\n",
       "    <tr>\n",
       "      <th>0</th>\n",
       "      <td>10</td>\n",
       "      <td>7</td>\n",
       "      <td>9</td>\n",
       "      <td>2</td>\n",
       "      <td>10</td>\n",
       "      <td>8</td>\n",
       "      <td>8</td>\n",
       "      <td>16</td>\n",
       "      <td>4</td>\n",
       "      <td>2</td>\n",
       "      <td>...</td>\n",
       "      <td>3.0</td>\n",
       "      <td>3.0</td>\n",
       "      <td>3.0</td>\n",
       "      <td>4.0</td>\n",
       "      <td>1.0</td>\n",
       "      <td>3.0</td>\n",
       "      <td>4.0</td>\n",
       "      <td>1.0</td>\n",
       "      <td>0.0</td>\n",
       "      <td>0.0</td>\n",
       "    </tr>\n",
       "    <tr>\n",
       "      <th>1</th>\n",
       "      <td>14</td>\n",
       "      <td>12</td>\n",
       "      <td>6</td>\n",
       "      <td>1</td>\n",
       "      <td>8</td>\n",
       "      <td>14</td>\n",
       "      <td>11</td>\n",
       "      <td>11</td>\n",
       "      <td>2</td>\n",
       "      <td>3</td>\n",
       "      <td>...</td>\n",
       "      <td>3.0</td>\n",
       "      <td>3.0</td>\n",
       "      <td>3.0</td>\n",
       "      <td>4.0</td>\n",
       "      <td>1.0</td>\n",
       "      <td>2.0</td>\n",
       "      <td>4.0</td>\n",
       "      <td>1.0</td>\n",
       "      <td>0.0</td>\n",
       "      <td>0.0</td>\n",
       "    </tr>\n",
       "    <tr>\n",
       "      <th>2</th>\n",
       "      <td>3</td>\n",
       "      <td>12</td>\n",
       "      <td>9</td>\n",
       "      <td>4</td>\n",
       "      <td>8</td>\n",
       "      <td>1</td>\n",
       "      <td>11</td>\n",
       "      <td>1</td>\n",
       "      <td>1</td>\n",
       "      <td>4</td>\n",
       "      <td>...</td>\n",
       "      <td>0.0</td>\n",
       "      <td>0.0</td>\n",
       "      <td>0.0</td>\n",
       "      <td>0.0</td>\n",
       "      <td>0.0</td>\n",
       "      <td>0.0</td>\n",
       "      <td>0.0</td>\n",
       "      <td>0.0</td>\n",
       "      <td>0.0</td>\n",
       "      <td>0.0</td>\n",
       "    </tr>\n",
       "    <tr>\n",
       "      <th>3</th>\n",
       "      <td>15</td>\n",
       "      <td>12</td>\n",
       "      <td>9</td>\n",
       "      <td>2</td>\n",
       "      <td>10</td>\n",
       "      <td>8</td>\n",
       "      <td>8</td>\n",
       "      <td>17</td>\n",
       "      <td>1</td>\n",
       "      <td>2</td>\n",
       "      <td>...</td>\n",
       "      <td>3.0</td>\n",
       "      <td>3.0</td>\n",
       "      <td>3.0</td>\n",
       "      <td>4.0</td>\n",
       "      <td>1.0</td>\n",
       "      <td>2.0</td>\n",
       "      <td>1.0</td>\n",
       "      <td>1.0</td>\n",
       "      <td>0.0</td>\n",
       "      <td>1.0</td>\n",
       "    </tr>\n",
       "    <tr>\n",
       "      <th>4</th>\n",
       "      <td>1</td>\n",
       "      <td>12</td>\n",
       "      <td>9</td>\n",
       "      <td>4</td>\n",
       "      <td>8</td>\n",
       "      <td>1</td>\n",
       "      <td>11</td>\n",
       "      <td>12</td>\n",
       "      <td>1</td>\n",
       "      <td>3</td>\n",
       "      <td>...</td>\n",
       "      <td>0.0</td>\n",
       "      <td>0.0</td>\n",
       "      <td>0.0</td>\n",
       "      <td>0.0</td>\n",
       "      <td>0.0</td>\n",
       "      <td>0.0</td>\n",
       "      <td>0.0</td>\n",
       "      <td>0.0</td>\n",
       "      <td>0.0</td>\n",
       "      <td>0.0</td>\n",
       "    </tr>\n",
       "  </tbody>\n",
       "</table>\n",
       "<p>5 rows × 234 columns</p>\n",
       "</div>"
      ],
      "text/plain": [
       "    rn  pre_since_opened  pre_since_confirmed  pre_pterm  pre_fterm  \\\n",
       "id                                                                    \n",
       "0   10                 7                    9          2         10   \n",
       "1   14                12                    6          1          8   \n",
       "2    3                12                    9          4          8   \n",
       "3   15                12                    9          2         10   \n",
       "4    1                12                    9          4          8   \n",
       "\n",
       "    pre_till_pclose  pre_till_fclose  pre_loans_credit_limit  \\\n",
       "id                                                             \n",
       "0                 8                8                      16   \n",
       "1                14               11                      11   \n",
       "2                 1               11                       1   \n",
       "3                 8                8                      17   \n",
       "4                 1               11                      12   \n",
       "\n",
       "    pre_loans_next_pay_summ  pre_loans_outstanding  ...  enc_paym_21_4  \\\n",
       "id                                                  ...                  \n",
       "0                         4                      2  ...            3.0   \n",
       "1                         2                      3  ...            3.0   \n",
       "2                         1                      4  ...            0.0   \n",
       "3                         1                      2  ...            3.0   \n",
       "4                         1                      3  ...            0.0   \n",
       "\n",
       "    enc_paym_22_4  enc_paym_23_4  enc_paym_24_4  \\\n",
       "id                                                \n",
       "0             3.0            3.0            4.0   \n",
       "1             3.0            3.0            4.0   \n",
       "2             0.0            0.0            0.0   \n",
       "3             3.0            3.0            4.0   \n",
       "4             0.0            0.0            0.0   \n",
       "\n",
       "    enc_loans_account_holder_type_4  enc_loans_credit_status_4  \\\n",
       "id                                                               \n",
       "0                               1.0                        3.0   \n",
       "1                               1.0                        2.0   \n",
       "2                               0.0                        0.0   \n",
       "3                               1.0                        2.0   \n",
       "4                               0.0                        0.0   \n",
       "\n",
       "    enc_loans_credit_type_4  enc_loans_account_cur_4  pclose_flag_4  \\\n",
       "id                                                                    \n",
       "0                       4.0                      1.0            0.0   \n",
       "1                       4.0                      1.0            0.0   \n",
       "2                       0.0                      0.0            0.0   \n",
       "3                       1.0                      1.0            0.0   \n",
       "4                       0.0                      0.0            0.0   \n",
       "\n",
       "    fclose_flag_4  \n",
       "id                 \n",
       "0             0.0  \n",
       "1             0.0  \n",
       "2             0.0  \n",
       "3             1.0  \n",
       "4             0.0  \n",
       "\n",
       "[5 rows x 234 columns]"
      ]
     },
     "execution_count": 4,
     "metadata": {},
     "output_type": "execute_result"
    }
   ],
   "source": [
    "filepath = \"../data/processed/train_data_proc.pq\"\n",
    "df = pd.read_parquet(filepath)\n",
    "df[:5]"
   ]
  },
  {
   "cell_type": "code",
   "execution_count": 5,
   "id": "86a439ed",
   "metadata": {
    "scrolled": false
   },
   "outputs": [
    {
     "data": {
      "text/plain": [
       "(237887, 234)"
      ]
     },
     "execution_count": 5,
     "metadata": {},
     "output_type": "execute_result"
    }
   ],
   "source": [
    "df.shape"
   ]
  },
  {
   "cell_type": "code",
   "execution_count": 6,
   "id": "6c35d684",
   "metadata": {},
   "outputs": [],
   "source": [
    "X = df.drop(columns=[\"flag\"])\n",
    "Y = df[\"flag\"]"
   ]
  },
  {
   "cell_type": "code",
   "execution_count": 7,
   "id": "4f709aa8",
   "metadata": {},
   "outputs": [],
   "source": [
    "mms = MinMaxScaler()\n",
    "X_scaled = mms.fit_transform(X)"
   ]
  },
  {
   "cell_type": "code",
   "execution_count": 8,
   "id": "98603c74",
   "metadata": {},
   "outputs": [],
   "source": [
    "x_train, x_test, y_train, y_test = train_test_split(X_scaled, Y, test_size=0.2, \n",
    "                                                    stratify=Y, \n",
    "                                                    random_state=RAND)"
   ]
  },
  {
   "cell_type": "markdown",
   "id": "7ed7c5da",
   "metadata": {},
   "source": [
    "# Baseline models"
   ]
  },
  {
   "cell_type": "code",
   "execution_count": 8,
   "id": "3b42555c",
   "metadata": {},
   "outputs": [
    {
     "data": {
      "text/html": [
       "<style>#sk-container-id-1 {color: black;background-color: white;}#sk-container-id-1 pre{padding: 0;}#sk-container-id-1 div.sk-toggleable {background-color: white;}#sk-container-id-1 label.sk-toggleable__label {cursor: pointer;display: block;width: 100%;margin-bottom: 0;padding: 0.3em;box-sizing: border-box;text-align: center;}#sk-container-id-1 label.sk-toggleable__label-arrow:before {content: \"▸\";float: left;margin-right: 0.25em;color: #696969;}#sk-container-id-1 label.sk-toggleable__label-arrow:hover:before {color: black;}#sk-container-id-1 div.sk-estimator:hover label.sk-toggleable__label-arrow:before {color: black;}#sk-container-id-1 div.sk-toggleable__content {max-height: 0;max-width: 0;overflow: hidden;text-align: left;background-color: #f0f8ff;}#sk-container-id-1 div.sk-toggleable__content pre {margin: 0.2em;color: black;border-radius: 0.25em;background-color: #f0f8ff;}#sk-container-id-1 input.sk-toggleable__control:checked~div.sk-toggleable__content {max-height: 200px;max-width: 100%;overflow: auto;}#sk-container-id-1 input.sk-toggleable__control:checked~label.sk-toggleable__label-arrow:before {content: \"▾\";}#sk-container-id-1 div.sk-estimator input.sk-toggleable__control:checked~label.sk-toggleable__label {background-color: #d4ebff;}#sk-container-id-1 div.sk-label input.sk-toggleable__control:checked~label.sk-toggleable__label {background-color: #d4ebff;}#sk-container-id-1 input.sk-hidden--visually {border: 0;clip: rect(1px 1px 1px 1px);clip: rect(1px, 1px, 1px, 1px);height: 1px;margin: -1px;overflow: hidden;padding: 0;position: absolute;width: 1px;}#sk-container-id-1 div.sk-estimator {font-family: monospace;background-color: #f0f8ff;border: 1px dotted black;border-radius: 0.25em;box-sizing: border-box;margin-bottom: 0.5em;}#sk-container-id-1 div.sk-estimator:hover {background-color: #d4ebff;}#sk-container-id-1 div.sk-parallel-item::after {content: \"\";width: 100%;border-bottom: 1px solid gray;flex-grow: 1;}#sk-container-id-1 div.sk-label:hover label.sk-toggleable__label {background-color: #d4ebff;}#sk-container-id-1 div.sk-serial::before {content: \"\";position: absolute;border-left: 1px solid gray;box-sizing: border-box;top: 0;bottom: 0;left: 50%;z-index: 0;}#sk-container-id-1 div.sk-serial {display: flex;flex-direction: column;align-items: center;background-color: white;padding-right: 0.2em;padding-left: 0.2em;position: relative;}#sk-container-id-1 div.sk-item {position: relative;z-index: 1;}#sk-container-id-1 div.sk-parallel {display: flex;align-items: stretch;justify-content: center;background-color: white;position: relative;}#sk-container-id-1 div.sk-item::before, #sk-container-id-1 div.sk-parallel-item::before {content: \"\";position: absolute;border-left: 1px solid gray;box-sizing: border-box;top: 0;bottom: 0;left: 50%;z-index: -1;}#sk-container-id-1 div.sk-parallel-item {display: flex;flex-direction: column;z-index: 1;position: relative;background-color: white;}#sk-container-id-1 div.sk-parallel-item:first-child::after {align-self: flex-end;width: 50%;}#sk-container-id-1 div.sk-parallel-item:last-child::after {align-self: flex-start;width: 50%;}#sk-container-id-1 div.sk-parallel-item:only-child::after {width: 0;}#sk-container-id-1 div.sk-dashed-wrapped {border: 1px dashed gray;margin: 0 0.4em 0.5em 0.4em;box-sizing: border-box;padding-bottom: 0.4em;background-color: white;}#sk-container-id-1 div.sk-label label {font-family: monospace;font-weight: bold;display: inline-block;line-height: 1.2em;}#sk-container-id-1 div.sk-label-container {text-align: center;}#sk-container-id-1 div.sk-container {/* jupyter's `normalize.less` sets `[hidden] { display: none; }` but bootstrap.min.css set `[hidden] { display: none !important; }` so we also need the `!important` here to be able to override the default hidden behavior on the sphinx rendered scikit-learn.org. See: https://github.com/scikit-learn/scikit-learn/issues/21755 */display: inline-block !important;position: relative;}#sk-container-id-1 div.sk-text-repr-fallback {display: none;}</style><div id=\"sk-container-id-1\" class=\"sk-top-container\"><div class=\"sk-text-repr-fallback\"><pre>LGBMClassifier(class_weight=&#x27;balanced&#x27;, random_state=42)</pre><b>In a Jupyter environment, please rerun this cell to show the HTML representation or trust the notebook. <br />On GitHub, the HTML representation is unable to render, please try loading this page with nbviewer.org.</b></div><div class=\"sk-container\" hidden><div class=\"sk-item\"><div class=\"sk-estimator sk-toggleable\"><input class=\"sk-toggleable__control sk-hidden--visually\" id=\"sk-estimator-id-1\" type=\"checkbox\" checked><label for=\"sk-estimator-id-1\" class=\"sk-toggleable__label sk-toggleable__label-arrow\">LGBMClassifier</label><div class=\"sk-toggleable__content\"><pre>LGBMClassifier(class_weight=&#x27;balanced&#x27;, random_state=42)</pre></div></div></div></div></div>"
      ],
      "text/plain": [
       "LGBMClassifier(class_weight='balanced', random_state=42)"
      ]
     },
     "execution_count": 8,
     "metadata": {},
     "output_type": "execute_result"
    }
   ],
   "source": [
    "# Создаем и обучаем бейслайн LightGBM\n",
    "model = LGBMClassifier(class_weight='balanced', random_state=RAND)\n",
    "model.fit(x_train, y_train)"
   ]
  },
  {
   "cell_type": "code",
   "execution_count": 9,
   "id": "4ab7431e",
   "metadata": {},
   "outputs": [],
   "source": [
    "y_pred_tr = model.predict(x_train)\n",
    "y_score_tr = model.predict_proba(x_train)\n",
    "\n",
    "y_pred = model.predict(x_test)\n",
    "y_score = model.predict_proba(x_test)"
   ]
  },
  {
   "cell_type": "code",
   "execution_count": 10,
   "id": "cbbbeecb",
   "metadata": {
    "scrolled": true
   },
   "outputs": [
    {
     "name": "stderr",
     "output_type": "stream",
     "text": [
      "/tmp/ipykernel_96710/158785131.py:2: FutureWarning: The frame.append method is deprecated and will be removed from pandas in a future version. Use pandas.concat instead.\n",
      "  res = res.append(get_metrics(y_test, y_pred, y_score, name=\"lgbm_test\"))\n"
     ]
    }
   ],
   "source": [
    "res = get_metrics(y_train, y_pred_tr, y_score_tr, name=\"lgbm_train\")\n",
    "res = res.append(get_metrics(y_test, y_pred, y_score, name=\"lgbm_test\"))"
   ]
  },
  {
   "cell_type": "code",
   "execution_count": 11,
   "id": "2883e1f7",
   "metadata": {},
   "outputs": [
    {
     "data": {
      "text/html": [
       "<div>\n",
       "<style scoped>\n",
       "    .dataframe tbody tr th:only-of-type {\n",
       "        vertical-align: middle;\n",
       "    }\n",
       "\n",
       "    .dataframe tbody tr th {\n",
       "        vertical-align: top;\n",
       "    }\n",
       "\n",
       "    .dataframe thead th {\n",
       "        text-align: right;\n",
       "    }\n",
       "</style>\n",
       "<table border=\"1\" class=\"dataframe\">\n",
       "  <thead>\n",
       "    <tr style=\"text-align: right;\">\n",
       "      <th></th>\n",
       "      <th>model</th>\n",
       "      <th>Accuracy</th>\n",
       "      <th>ROC_AUC</th>\n",
       "      <th>Precision</th>\n",
       "      <th>Recall</th>\n",
       "      <th>f1</th>\n",
       "      <th>Logloss</th>\n",
       "    </tr>\n",
       "  </thead>\n",
       "  <tbody>\n",
       "    <tr>\n",
       "      <th>0</th>\n",
       "      <td>lgbm_train</td>\n",
       "      <td>0.740343</td>\n",
       "      <td>0.851627</td>\n",
       "      <td>0.089575</td>\n",
       "      <td>0.804064</td>\n",
       "      <td>0.161192</td>\n",
       "      <td>0.511775</td>\n",
       "    </tr>\n",
       "    <tr>\n",
       "      <th>0</th>\n",
       "      <td>lgbm_test</td>\n",
       "      <td>0.732629</td>\n",
       "      <td>0.757902</td>\n",
       "      <td>0.072856</td>\n",
       "      <td>0.649729</td>\n",
       "      <td>0.131020</td>\n",
       "      <td>0.519947</td>\n",
       "    </tr>\n",
       "  </tbody>\n",
       "</table>\n",
       "</div>"
      ],
      "text/plain": [
       "        model  Accuracy   ROC_AUC  Precision    Recall        f1   Logloss\n",
       "0  lgbm_train  0.740343  0.851627   0.089575  0.804064  0.161192  0.511775\n",
       "0   lgbm_test  0.732629  0.757902   0.072856  0.649729  0.131020  0.519947"
      ]
     },
     "execution_count": 11,
     "metadata": {},
     "output_type": "execute_result"
    }
   ],
   "source": [
    "res"
   ]
  },
  {
   "cell_type": "code",
   "execution_count": 12,
   "id": "e5836b01",
   "metadata": {
    "scrolled": true
   },
   "outputs": [
    {
     "data": {
      "text/plain": [
       "<catboost.core.CatBoostClassifier at 0x7f5c2059bc70>"
      ]
     },
     "execution_count": 12,
     "metadata": {},
     "output_type": "execute_result"
    }
   ],
   "source": [
    "ratio = y_train[y_train==0].shape[0] / y_train[y_train==1].shape[0]\n",
    "\n",
    "# Создаем и обучаем бейслайн Catboost\n",
    "model = CatBoostClassifier(scale_pos_weight=ratio, random_state=RAND, verbose=0)\n",
    "model.fit(x_train, y_train)"
   ]
  },
  {
   "cell_type": "code",
   "execution_count": 13,
   "id": "86404bfa",
   "metadata": {},
   "outputs": [],
   "source": [
    "y_pred_tr = model.predict(x_train)\n",
    "y_score_tr = model.predict_proba(x_train)\n",
    "\n",
    "y_pred = model.predict(x_test)\n",
    "y_score = model.predict_proba(x_test)"
   ]
  },
  {
   "cell_type": "code",
   "execution_count": 14,
   "id": "9a800564",
   "metadata": {
    "scrolled": true
   },
   "outputs": [
    {
     "name": "stderr",
     "output_type": "stream",
     "text": [
      "/tmp/ipykernel_96710/1045409491.py:1: FutureWarning: The frame.append method is deprecated and will be removed from pandas in a future version. Use pandas.concat instead.\n",
      "  res = res.append(get_metrics(y_train, y_pred_tr, y_score_tr, name=\"catboost_train\"))\n",
      "/tmp/ipykernel_96710/1045409491.py:2: FutureWarning: The frame.append method is deprecated and will be removed from pandas in a future version. Use pandas.concat instead.\n",
      "  res = res.append(get_metrics(y_test, y_pred, y_score, name=\"catboost_test\"))\n"
     ]
    }
   ],
   "source": [
    "res = res.append(get_metrics(y_train, y_pred_tr, y_score_tr, name=\"catboost_train\"))\n",
    "res = res.append(get_metrics(y_test, y_pred, y_score, name=\"catboost_test\"))"
   ]
  },
  {
   "cell_type": "code",
   "execution_count": 15,
   "id": "fb51b114",
   "metadata": {
    "scrolled": true
   },
   "outputs": [
    {
     "data": {
      "text/html": [
       "<div>\n",
       "<style scoped>\n",
       "    .dataframe tbody tr th:only-of-type {\n",
       "        vertical-align: middle;\n",
       "    }\n",
       "\n",
       "    .dataframe tbody tr th {\n",
       "        vertical-align: top;\n",
       "    }\n",
       "\n",
       "    .dataframe thead th {\n",
       "        text-align: right;\n",
       "    }\n",
       "</style>\n",
       "<table border=\"1\" class=\"dataframe\">\n",
       "  <thead>\n",
       "    <tr style=\"text-align: right;\">\n",
       "      <th></th>\n",
       "      <th>model</th>\n",
       "      <th>Accuracy</th>\n",
       "      <th>ROC_AUC</th>\n",
       "      <th>Precision</th>\n",
       "      <th>Recall</th>\n",
       "      <th>f1</th>\n",
       "      <th>Logloss</th>\n",
       "    </tr>\n",
       "  </thead>\n",
       "  <tbody>\n",
       "    <tr>\n",
       "      <th>0</th>\n",
       "      <td>lgbm_train</td>\n",
       "      <td>0.740343</td>\n",
       "      <td>0.851627</td>\n",
       "      <td>0.089575</td>\n",
       "      <td>0.804064</td>\n",
       "      <td>0.161192</td>\n",
       "      <td>0.511775</td>\n",
       "    </tr>\n",
       "    <tr>\n",
       "      <th>0</th>\n",
       "      <td>lgbm_test</td>\n",
       "      <td>0.732629</td>\n",
       "      <td>0.757902</td>\n",
       "      <td>0.072856</td>\n",
       "      <td>0.649729</td>\n",
       "      <td>0.131020</td>\n",
       "      <td>0.519947</td>\n",
       "    </tr>\n",
       "    <tr>\n",
       "      <th>0</th>\n",
       "      <td>catboost_train</td>\n",
       "      <td>0.878624</td>\n",
       "      <td>0.971476</td>\n",
       "      <td>0.198942</td>\n",
       "      <td>0.962066</td>\n",
       "      <td>0.329706</td>\n",
       "      <td>0.321011</td>\n",
       "    </tr>\n",
       "    <tr>\n",
       "      <th>0</th>\n",
       "      <td>catboost_test</td>\n",
       "      <td>0.852159</td>\n",
       "      <td>0.728649</td>\n",
       "      <td>0.090722</td>\n",
       "      <td>0.417344</td>\n",
       "      <td>0.149044</td>\n",
       "      <td>0.357390</td>\n",
       "    </tr>\n",
       "  </tbody>\n",
       "</table>\n",
       "</div>"
      ],
      "text/plain": [
       "            model  Accuracy   ROC_AUC  Precision    Recall        f1   Logloss\n",
       "0      lgbm_train  0.740343  0.851627   0.089575  0.804064  0.161192  0.511775\n",
       "0       lgbm_test  0.732629  0.757902   0.072856  0.649729  0.131020  0.519947\n",
       "0  catboost_train  0.878624  0.971476   0.198942  0.962066  0.329706  0.321011\n",
       "0   catboost_test  0.852159  0.728649   0.090722  0.417344  0.149044  0.357390"
      ]
     },
     "execution_count": 15,
     "metadata": {},
     "output_type": "execute_result"
    }
   ],
   "source": [
    "res"
   ]
  },
  {
   "cell_type": "code",
   "execution_count": 16,
   "id": "a096a6a5",
   "metadata": {
    "scrolled": true
   },
   "outputs": [
    {
     "name": "stderr",
     "output_type": "stream",
     "text": [
      "/home/sergey/virtual_env/lib/python3.10/site-packages/sklearn/linear_model/_logistic.py:458: ConvergenceWarning: lbfgs failed to converge (status=1):\n",
      "STOP: TOTAL NO. of ITERATIONS REACHED LIMIT.\n",
      "\n",
      "Increase the number of iterations (max_iter) or scale the data as shown in:\n",
      "    https://scikit-learn.org/stable/modules/preprocessing.html\n",
      "Please also refer to the documentation for alternative solver options:\n",
      "    https://scikit-learn.org/stable/modules/linear_model.html#logistic-regression\n",
      "  n_iter_i = _check_optimize_result(\n"
     ]
    },
    {
     "data": {
      "text/html": [
       "<style>#sk-container-id-2 {color: black;background-color: white;}#sk-container-id-2 pre{padding: 0;}#sk-container-id-2 div.sk-toggleable {background-color: white;}#sk-container-id-2 label.sk-toggleable__label {cursor: pointer;display: block;width: 100%;margin-bottom: 0;padding: 0.3em;box-sizing: border-box;text-align: center;}#sk-container-id-2 label.sk-toggleable__label-arrow:before {content: \"▸\";float: left;margin-right: 0.25em;color: #696969;}#sk-container-id-2 label.sk-toggleable__label-arrow:hover:before {color: black;}#sk-container-id-2 div.sk-estimator:hover label.sk-toggleable__label-arrow:before {color: black;}#sk-container-id-2 div.sk-toggleable__content {max-height: 0;max-width: 0;overflow: hidden;text-align: left;background-color: #f0f8ff;}#sk-container-id-2 div.sk-toggleable__content pre {margin: 0.2em;color: black;border-radius: 0.25em;background-color: #f0f8ff;}#sk-container-id-2 input.sk-toggleable__control:checked~div.sk-toggleable__content {max-height: 200px;max-width: 100%;overflow: auto;}#sk-container-id-2 input.sk-toggleable__control:checked~label.sk-toggleable__label-arrow:before {content: \"▾\";}#sk-container-id-2 div.sk-estimator input.sk-toggleable__control:checked~label.sk-toggleable__label {background-color: #d4ebff;}#sk-container-id-2 div.sk-label input.sk-toggleable__control:checked~label.sk-toggleable__label {background-color: #d4ebff;}#sk-container-id-2 input.sk-hidden--visually {border: 0;clip: rect(1px 1px 1px 1px);clip: rect(1px, 1px, 1px, 1px);height: 1px;margin: -1px;overflow: hidden;padding: 0;position: absolute;width: 1px;}#sk-container-id-2 div.sk-estimator {font-family: monospace;background-color: #f0f8ff;border: 1px dotted black;border-radius: 0.25em;box-sizing: border-box;margin-bottom: 0.5em;}#sk-container-id-2 div.sk-estimator:hover {background-color: #d4ebff;}#sk-container-id-2 div.sk-parallel-item::after {content: \"\";width: 100%;border-bottom: 1px solid gray;flex-grow: 1;}#sk-container-id-2 div.sk-label:hover label.sk-toggleable__label {background-color: #d4ebff;}#sk-container-id-2 div.sk-serial::before {content: \"\";position: absolute;border-left: 1px solid gray;box-sizing: border-box;top: 0;bottom: 0;left: 50%;z-index: 0;}#sk-container-id-2 div.sk-serial {display: flex;flex-direction: column;align-items: center;background-color: white;padding-right: 0.2em;padding-left: 0.2em;position: relative;}#sk-container-id-2 div.sk-item {position: relative;z-index: 1;}#sk-container-id-2 div.sk-parallel {display: flex;align-items: stretch;justify-content: center;background-color: white;position: relative;}#sk-container-id-2 div.sk-item::before, #sk-container-id-2 div.sk-parallel-item::before {content: \"\";position: absolute;border-left: 1px solid gray;box-sizing: border-box;top: 0;bottom: 0;left: 50%;z-index: -1;}#sk-container-id-2 div.sk-parallel-item {display: flex;flex-direction: column;z-index: 1;position: relative;background-color: white;}#sk-container-id-2 div.sk-parallel-item:first-child::after {align-self: flex-end;width: 50%;}#sk-container-id-2 div.sk-parallel-item:last-child::after {align-self: flex-start;width: 50%;}#sk-container-id-2 div.sk-parallel-item:only-child::after {width: 0;}#sk-container-id-2 div.sk-dashed-wrapped {border: 1px dashed gray;margin: 0 0.4em 0.5em 0.4em;box-sizing: border-box;padding-bottom: 0.4em;background-color: white;}#sk-container-id-2 div.sk-label label {font-family: monospace;font-weight: bold;display: inline-block;line-height: 1.2em;}#sk-container-id-2 div.sk-label-container {text-align: center;}#sk-container-id-2 div.sk-container {/* jupyter's `normalize.less` sets `[hidden] { display: none; }` but bootstrap.min.css set `[hidden] { display: none !important; }` so we also need the `!important` here to be able to override the default hidden behavior on the sphinx rendered scikit-learn.org. See: https://github.com/scikit-learn/scikit-learn/issues/21755 */display: inline-block !important;position: relative;}#sk-container-id-2 div.sk-text-repr-fallback {display: none;}</style><div id=\"sk-container-id-2\" class=\"sk-top-container\"><div class=\"sk-text-repr-fallback\"><pre>LogisticRegression(class_weight=&#x27;balanced&#x27;, random_state=42)</pre><b>In a Jupyter environment, please rerun this cell to show the HTML representation or trust the notebook. <br />On GitHub, the HTML representation is unable to render, please try loading this page with nbviewer.org.</b></div><div class=\"sk-container\" hidden><div class=\"sk-item\"><div class=\"sk-estimator sk-toggleable\"><input class=\"sk-toggleable__control sk-hidden--visually\" id=\"sk-estimator-id-2\" type=\"checkbox\" checked><label for=\"sk-estimator-id-2\" class=\"sk-toggleable__label sk-toggleable__label-arrow\">LogisticRegression</label><div class=\"sk-toggleable__content\"><pre>LogisticRegression(class_weight=&#x27;balanced&#x27;, random_state=42)</pre></div></div></div></div></div>"
      ],
      "text/plain": [
       "LogisticRegression(class_weight='balanced', random_state=42)"
      ]
     },
     "execution_count": 16,
     "metadata": {},
     "output_type": "execute_result"
    }
   ],
   "source": [
    "# Создаем и обучаем линейную регрессию\n",
    "model = LogisticRegression(class_weight='balanced', random_state=RAND)\n",
    "model.fit(x_train, y_train)"
   ]
  },
  {
   "cell_type": "code",
   "execution_count": 17,
   "id": "e0993711",
   "metadata": {},
   "outputs": [],
   "source": [
    "y_pred_tr = model.predict(x_train)\n",
    "y_score_tr = model.predict_proba(x_train)\n",
    "\n",
    "y_pred = model.predict(x_test)\n",
    "y_score = model.predict_proba(x_test)"
   ]
  },
  {
   "cell_type": "code",
   "execution_count": 18,
   "id": "84eb91ac",
   "metadata": {},
   "outputs": [
    {
     "name": "stderr",
     "output_type": "stream",
     "text": [
      "/tmp/ipykernel_96710/3198375833.py:1: FutureWarning: The frame.append method is deprecated and will be removed from pandas in a future version. Use pandas.concat instead.\n",
      "  res = res.append(get_metrics(y_train, y_pred_tr, y_score_tr, \"LG_train\"))\n",
      "/tmp/ipykernel_96710/3198375833.py:2: FutureWarning: The frame.append method is deprecated and will be removed from pandas in a future version. Use pandas.concat instead.\n",
      "  res = res.append(get_metrics(y_test, y_pred, y_score, \"LG_test\"))\n"
     ]
    },
    {
     "data": {
      "text/html": [
       "<div>\n",
       "<style scoped>\n",
       "    .dataframe tbody tr th:only-of-type {\n",
       "        vertical-align: middle;\n",
       "    }\n",
       "\n",
       "    .dataframe tbody tr th {\n",
       "        vertical-align: top;\n",
       "    }\n",
       "\n",
       "    .dataframe thead th {\n",
       "        text-align: right;\n",
       "    }\n",
       "</style>\n",
       "<table border=\"1\" class=\"dataframe\">\n",
       "  <thead>\n",
       "    <tr style=\"text-align: right;\">\n",
       "      <th></th>\n",
       "      <th>model</th>\n",
       "      <th>Accuracy</th>\n",
       "      <th>ROC_AUC</th>\n",
       "      <th>Precision</th>\n",
       "      <th>Recall</th>\n",
       "      <th>f1</th>\n",
       "      <th>Logloss</th>\n",
       "    </tr>\n",
       "  </thead>\n",
       "  <tbody>\n",
       "    <tr>\n",
       "      <th>0</th>\n",
       "      <td>lgbm_train</td>\n",
       "      <td>0.740343</td>\n",
       "      <td>0.851627</td>\n",
       "      <td>0.089575</td>\n",
       "      <td>0.804064</td>\n",
       "      <td>0.161192</td>\n",
       "      <td>0.511775</td>\n",
       "    </tr>\n",
       "    <tr>\n",
       "      <th>0</th>\n",
       "      <td>lgbm_test</td>\n",
       "      <td>0.732629</td>\n",
       "      <td>0.757902</td>\n",
       "      <td>0.072856</td>\n",
       "      <td>0.649729</td>\n",
       "      <td>0.131020</td>\n",
       "      <td>0.519947</td>\n",
       "    </tr>\n",
       "    <tr>\n",
       "      <th>0</th>\n",
       "      <td>catboost_train</td>\n",
       "      <td>0.878624</td>\n",
       "      <td>0.971476</td>\n",
       "      <td>0.198942</td>\n",
       "      <td>0.962066</td>\n",
       "      <td>0.329706</td>\n",
       "      <td>0.321011</td>\n",
       "    </tr>\n",
       "    <tr>\n",
       "      <th>0</th>\n",
       "      <td>catboost_test</td>\n",
       "      <td>0.852159</td>\n",
       "      <td>0.728649</td>\n",
       "      <td>0.090722</td>\n",
       "      <td>0.417344</td>\n",
       "      <td>0.149044</td>\n",
       "      <td>0.357390</td>\n",
       "    </tr>\n",
       "    <tr>\n",
       "      <th>0</th>\n",
       "      <td>LG_train</td>\n",
       "      <td>0.667388</td>\n",
       "      <td>0.741730</td>\n",
       "      <td>0.062852</td>\n",
       "      <td>0.698730</td>\n",
       "      <td>0.115330</td>\n",
       "      <td>0.603157</td>\n",
       "    </tr>\n",
       "    <tr>\n",
       "      <th>0</th>\n",
       "      <td>LG_test</td>\n",
       "      <td>0.672307</td>\n",
       "      <td>0.740945</td>\n",
       "      <td>0.063355</td>\n",
       "      <td>0.693767</td>\n",
       "      <td>0.116106</td>\n",
       "      <td>0.599816</td>\n",
       "    </tr>\n",
       "  </tbody>\n",
       "</table>\n",
       "</div>"
      ],
      "text/plain": [
       "            model  Accuracy   ROC_AUC  Precision    Recall        f1   Logloss\n",
       "0      lgbm_train  0.740343  0.851627   0.089575  0.804064  0.161192  0.511775\n",
       "0       lgbm_test  0.732629  0.757902   0.072856  0.649729  0.131020  0.519947\n",
       "0  catboost_train  0.878624  0.971476   0.198942  0.962066  0.329706  0.321011\n",
       "0   catboost_test  0.852159  0.728649   0.090722  0.417344  0.149044  0.357390\n",
       "0        LG_train  0.667388  0.741730   0.062852  0.698730  0.115330  0.603157\n",
       "0         LG_test  0.672307  0.740945   0.063355  0.693767  0.116106  0.599816"
      ]
     },
     "execution_count": 18,
     "metadata": {},
     "output_type": "execute_result"
    }
   ],
   "source": [
    "res = res.append(get_metrics(y_train, y_pred_tr, y_score_tr, \"LG_train\"))\n",
    "res = res.append(get_metrics(y_test, y_pred, y_score, \"LG_test\"))\n",
    "res"
   ]
  },
  {
   "cell_type": "markdown",
   "id": "ec69410b",
   "metadata": {},
   "source": [
    "**Выводы**  \n",
    "Среди выбранных baseline-моделей catboost показал большое переобучение, что можно нивилировать, подобрав гиперпараметры; lightgbm показал меньше переобучение и большое значение ROC-AUC на валидации; логистическая регрессия показала слишком низкие метрики и на трейне и на валидации, что может говорить о том, что линейная модель не подходит для данной задачи.\n",
    "  \n",
    "Так как в нашем случае матрица объект-признаки имеет большую размерность, lightgbm является более подходящей моделью для обучения на стационарном устройстве, так как сам алгоритм работает быстрее."
   ]
  },
  {
   "cell_type": "markdown",
   "id": "ff3dbe9d",
   "metadata": {},
   "source": [
    "# Tune"
   ]
  },
  {
   "cell_type": "code",
   "execution_count": 9,
   "id": "2ce1d756",
   "metadata": {},
   "outputs": [],
   "source": [
    "import optuna\n",
    "import scipy.stats as stats"
   ]
  },
  {
   "cell_type": "code",
   "execution_count": 12,
   "id": "5a42a075",
   "metadata": {},
   "outputs": [],
   "source": [
    "def objective_gpt(trial: optuna.Trial, x, y):\n",
    "    params = {\n",
    "        'n_estimators': trial.suggest_categorical('n_estimators', [1000]),\n",
    "#         'learning_rate': trial.suggest_float('learning_rate', 0.001, 3),\n",
    "        'learning_rate': trial.suggest_categorical('learning_rate', [0.035745438823873034]),\n",
    "        'max_bin': trial.suggest_int('max_bin', 100, 500),\n",
    "        'num_leaves': trial.suggest_int('num_leaves', 10, 500),\n",
    "        'max_depth': trial.suggest_int('max_depth', 3, 20),\n",
    "        'min_child_samples': trial.suggest_int('min_child_samples', 100, 70000, step=100),\n",
    "        'lambda_l1': trial.suggest_int('lambda_l1', 0, 100),\n",
    "        'lambda_l2': trial.suggest_int('lambda_l2', 0, 100),\n",
    "        'min_split_gain': trial.suggest_loguniform('min_split_gain', 1e-4, 1e-1),\n",
    "        'objective': trial.suggest_categorical('objective', ['binary']),\n",
    "        'metric': trial.suggest_categorical('metric', ['auc']),\n",
    "        'feature_fraction': trial.suggest_uniform('feature_fraction', 0.2, 1.0),\n",
    "        'bagging_fraction': trial.suggest_uniform('bagging_fraction', 0.2, 1.0),\n",
    "        'bagging_freq': trial.suggest_int('bagging_freq', 1, 7),\n",
    "        'random_state': trial.suggest_categorical('random_state', [RAND]),\n",
    "    }\n",
    "\n",
    "    cv_pred = np.empty(N_FOLDS)\n",
    "    cv = StratifiedKFold(n_splits=N_FOLDS, shuffle=True, random_state=RAND)\n",
    "\n",
    "    for fold, (train_idx, test_idx) in enumerate(cv.split(x, y)):\n",
    "        x_train_, x_val_ = x[train_idx, :], x[test_idx, :]\n",
    "        y_train_, y_val_ = y[train_idx], y[test_idx]\n",
    "\n",
    "#         ratio = y_train_[y_train_ == 0].shape[0] / \\\n",
    "#             y_train_[y_train_ == 1].shape[0]\n",
    "\n",
    "        pruning = optuna.integration.LightGBMPruningCallback(trial, 'auc')\n",
    "\n",
    "        model = LGBMClassifier(\n",
    "            class_weight=\"balanced\",\n",
    "            n_jobs=-1,\n",
    "            **params\n",
    "        )\n",
    "        model.fit(x_train_, y_train_,\n",
    "                  eval_metric='auc',\n",
    "                  eval_set=[(x_val_, y_val_)],\n",
    "                  early_stopping_rounds=100,\n",
    "                  callbacks=[pruning],\n",
    "                  verbose=0)\n",
    "\n",
    "        y_pred = model.predict(x_val_)\n",
    "        y_proba = model.predict_proba(x_val_)[:, 1]\n",
    "\n",
    "        cv_pred[fold] = roc_auc_score(y_val_, y_proba)\n",
    "    return (np.mean(cv_pred))"
   ]
  },
  {
   "cell_type": "code",
   "execution_count": null,
   "id": "36d4d7ef",
   "metadata": {
    "scrolled": true
   },
   "outputs": [],
   "source": [
    "func = lambda trial: objective_gpt(trial, x_train, y_train.values)\n",
    "\n",
    "study = optuna.create_study(direction=\"maximize\")\n",
    "study.optimize(func, n_trials=10, show_progress_bar=True, n_jobs=6)"
   ]
  },
  {
   "cell_type": "code",
   "execution_count": null,
   "id": "e7210a7c",
   "metadata": {
    "scrolled": true
   },
   "outputs": [],
   "source": [
    "study.optimize(func, n_trials=40, show_progress_bar=True, n_jobs=6)"
   ]
  },
  {
   "cell_type": "code",
   "execution_count": 16,
   "id": "78bfbed1",
   "metadata": {},
   "outputs": [
    {
     "data": {
      "text/plain": [
       "{'n_estimators': 1000,\n",
       " 'learning_rate': 0.03574543882387304,\n",
       " 'max_bin': 158,\n",
       " 'num_leaves': 421,\n",
       " 'max_depth': 16,\n",
       " 'min_child_samples': 200,\n",
       " 'lambda_l1': 84,\n",
       " 'lambda_l2': 45,\n",
       " 'min_split_gain': 0.0016972064854697496,\n",
       " 'objective': 'binary',\n",
       " 'metric': 'auc',\n",
       " 'feature_fraction': 0.2057318339393228,\n",
       " 'bagging_fraction': 0.8935140286078869,\n",
       " 'bagging_freq': 5,\n",
       " 'random_state': 42}"
      ]
     },
     "execution_count": 16,
     "metadata": {},
     "output_type": "execute_result"
    }
   ],
   "source": [
    "study.best_params"
   ]
  },
  {
   "cell_type": "code",
   "execution_count": null,
   "id": "785b421f",
   "metadata": {
    "scrolled": true
   },
   "outputs": [],
   "source": [
    "# Посчитаем микро- и макро- усреднение roc-auc \n",
    "cv = StratifiedKFold(n_splits=N_FOLDS, shuffle=True, random_state=RAND)\n",
    "roc_aucs = []\n",
    "y_pred_hold = []\n",
    "y_score_hold = []\n",
    "\n",
    "for fold, (train_idx, test_idx) in enumerate(cv.split(x_train, y_train)):\n",
    "    x_train_, x_val_ = x_train[train_idx, :], x_train[test_idx, :]\n",
    "    y_train_, y_val_ = y_train.values[train_idx], y_train.values[test_idx]\n",
    "\n",
    "#     ratio = y_train_[y_train_ == 0].shape[0] / \\\n",
    "#         y_train_[y_train_ == 1].shape[0]\n",
    "\n",
    "    model = LGBMClassifier(**study.best_params, class_weight='balanced', n_jobs=-1)\n",
    "    model.fit(x_train_, y_train_,\n",
    "              eval_metric='auc',\n",
    "              eval_set=[(x_val_, y_val_)],\n",
    "              early_stopping_rounds=100,\n",
    "              verbose=0)\n",
    "\n",
    "    y_score = model.predict_proba(x_val_)\n",
    "\n",
    "    roc_aucs.append(roc_auc_score(y_val_, y_score[:, 1]))\n",
    "\n",
    "    y_pred_hold.append(model.predict(x_test))\n",
    "    y_score_hold.append(model.predict_proba(x_test))\n",
    "\n",
    "y_pred = stats.mode(np.column_stack(y_pred_hold), axis=1)[0]\n",
    "y_score = np.column_stack([np.mean(np.column_stack(y_score_hold)[:, ::2], axis=1),\n",
    "                           np.mean(np.column_stack(y_score_hold)[:, 1::2], axis=1)])"
   ]
  },
  {
   "cell_type": "code",
   "execution_count": 20,
   "id": "53fc220e",
   "metadata": {},
   "outputs": [
    {
     "name": "stdout",
     "output_type": "stream",
     "text": [
      "0.7587526699357604\n",
      "0.7652572609410099\n"
     ]
    }
   ],
   "source": [
    "print(np.mean(roc_aucs))\n",
    "print(roc_auc_score(y_test, y_score[:, 1]))"
   ]
  },
  {
   "cell_type": "markdown",
   "id": "b59b8b0a",
   "metadata": {},
   "source": [
    "# Offset training"
   ]
  },
  {
   "cell_type": "code",
   "execution_count": 3,
   "id": "5b4df089",
   "metadata": {},
   "outputs": [],
   "source": [
    "from scrypt import out_of_core_train"
   ]
  },
  {
   "cell_type": "code",
   "execution_count": 4,
   "id": "81bed3df",
   "metadata": {},
   "outputs": [],
   "source": [
    "train_path = \"../data/raw/train_data/\"\n",
    "target_path = \"../data/raw/train_target.csv\""
   ]
  },
  {
   "cell_type": "code",
   "execution_count": 5,
   "id": "7f310371",
   "metadata": {},
   "outputs": [],
   "source": [
    "models = joblib.load(\"../models.joblib\")\n",
    "model = models['lightgbm']"
   ]
  },
  {
   "cell_type": "code",
   "execution_count": null,
   "id": "08b53691",
   "metadata": {
    "scrolled": false
   },
   "outputs": [],
   "source": [
    "model = out_of_core_train(train_path, target_path, params=model.get_params())"
   ]
  },
  {
   "cell_type": "code",
   "execution_count": 7,
   "id": "46487524",
   "metadata": {},
   "outputs": [],
   "source": [
    "# Создаем словарь с моделью и MinMaxScaler'ом\n",
    "models = {}\n",
    "\n",
    "models['lightgbm'] = model"
   ]
  },
  {
   "cell_type": "code",
   "execution_count": null,
   "id": "6f7eb904",
   "metadata": {},
   "outputs": [],
   "source": [
    "# Сохраняем словарь с моделями в joblib файл\n",
    "models_path = '../models.joblib'\n",
    "joblib.dump(models, models_path)"
   ]
  }
 ],
 "metadata": {
  "kernelspec": {
   "display_name": "Python 3 (ipykernel)",
   "language": "python",
   "name": "python3"
  },
  "language_info": {
   "codemirror_mode": {
    "name": "ipython",
    "version": 3
   },
   "file_extension": ".py",
   "mimetype": "text/x-python",
   "name": "python",
   "nbconvert_exporter": "python",
   "pygments_lexer": "ipython3",
   "version": "3.10.7"
  }
 },
 "nbformat": 4,
 "nbformat_minor": 5
}
